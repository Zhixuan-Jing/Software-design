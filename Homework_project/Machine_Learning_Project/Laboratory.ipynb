{
 "cells": [
  {
   "cell_type": "code",
   "execution_count": 2,
   "metadata": {},
   "outputs": [],
   "source": [
    "import pandas as pd\n",
    "from sklearn.model_selection import train_test_split\n",
    "from sklearn import metrics\n",
    "from sklearn.neighbors import KNeighborsClassifier\n",
    "from sklearn.naive_bayes import GaussianNB\n",
    "from sklearn.ensemble import RandomForestClassifier\n",
    "from sklearn.ensemble import VotingClassifier"
   ]
  },
  {
   "cell_type": "code",
   "execution_count": 3,
   "metadata": {},
   "outputs": [],
   "source": [
    "def transTime(split):\n",
    "    split = split.split(\"/\")\n",
    "    split[1], split[0] = split[0], split[1]\n",
    "    split = \"/\".join(split)\n",
    "    return split"
   ]
  },
  {
   "cell_type": "code",
   "execution_count": 4,
   "metadata": {},
   "outputs": [],
   "source": [
    "def getInterval(arrayLike):\n",
    "    launched = transTime(arrayLike[\"launched\"])\n",
    "    deadline = transTime(arrayLike[\"deadline\"])\n",
    "    interval = pd.to_datetime(deadline)-pd.to_datetime(launched)\n",
    "    return interval.days"
   ]
  },
  {
   "cell_type": "code",
   "execution_count": 5,
   "metadata": {},
   "outputs": [],
   "source": [
    "def trans_category(arrayLike):\n",
    "    cat_dic = []\n",
    "    main_dic = []\n",
    "    assert(arrayLike is not None)\n",
    "    category = arrayLike[\"category\"]\n",
    "    main_category = arrayLike[\"main_category\"]\n",
    "    for ele in category:\n",
    "        if ele not in cat_dic:\n",
    "            cat_dic.append(ele)\n",
    "    for ele in main_category:\n",
    "        if ele not in main_dic:\n",
    "            main_dic.append(ele)     \n",
    "    return cat_dic, main_dic      "
   ]
  },
  {
   "cell_type": "code",
   "execution_count": 6,
   "metadata": {},
   "outputs": [],
   "source": [
    "def trans_currency(arrayLike):\n",
    "    curr_dic = []\n",
    "    currency = arrayLike[\"currency\"]\n",
    "    for ele in currency:\n",
    "        if ele not in curr_dic:\n",
    "            curr_dic.append(ele)\n",
    "    return curr_dic"
   ]
  },
  {
   "cell_type": "code",
   "execution_count": 7,
   "metadata": {},
   "outputs": [],
   "source": [
    "def trans_country(arrayLike):\n",
    "    country_dic = []\n",
    "    country = arrayLike[\"country\"]\n",
    "    for ele in country:\n",
    "        if ele not in country_dic:\n",
    "            country_dic.append(ele)\n",
    "    return country_dic"
   ]
  },
  {
   "cell_type": "code",
   "execution_count": 8,
   "metadata": {},
   "outputs": [],
   "source": [
    "def label_generate(arrayLike):\n",
    "    label = []\n",
    "    country = arrayLike[\"state\"]\n",
    "    for ele in country:\n",
    "        if ele not in label:\n",
    "            label.append(ele)\n",
    "    return label"
   ]
  },
  {
   "cell_type": "code",
   "execution_count": 9,
   "metadata": {},
   "outputs": [
    {
     "name": "stdout",
     "output_type": "stream",
     "text": [
      "False\n",
      "               category main_category currency    deadline     goal  \\\n",
      "0                Poetry    Publishing      GBP  09/10/2015   1000.0   \n",
      "1        Narrative Film  Film & Video      USD  01/11/2017  30000.0   \n",
      "2        Narrative Film  Film & Video      USD  26/02/2013  45000.0   \n",
      "3                 Music         Music      USD  16/04/2012   5000.0   \n",
      "4          Film & Video  Film & Video      USD  29/08/2015  19500.0   \n",
      "...                 ...           ...      ...         ...      ...   \n",
      "378656      Documentary  Film & Video      USD  17/10/2014  50000.0   \n",
      "378657   Narrative Film  Film & Video      USD  19/07/2011   1500.0   \n",
      "378658   Narrative Film  Film & Video      USD  16/08/2010  15000.0   \n",
      "378659       Technology    Technology      USD  13/02/2016  15000.0   \n",
      "378660  Performance Art           Art      USD  16/08/2011   2000.0   \n",
      "\n",
      "                launched  pledged     state  backers country  usd pledged  \\\n",
      "0       11/08/2015 12:12      0.0    failed        0      GB          0.0   \n",
      "1       02/09/2017 04:43   2421.0    failed       15      US        100.0   \n",
      "2       12/01/2013 00:20    220.0    failed        3      US        220.0   \n",
      "3       17/03/2012 03:24      1.0    failed        1      US          1.0   \n",
      "4       04/07/2015 08:35   1283.0  canceled       14      US       1283.0   \n",
      "...                  ...      ...       ...      ...     ...          ...   \n",
      "378656  17/09/2014 02:35     25.0  canceled        1      US         25.0   \n",
      "378657  22/06/2011 03:35    155.0    failed        5      US        155.0   \n",
      "378658  01/07/2010 19:40     20.0    failed        1      US         20.0   \n",
      "378659  13/01/2016 18:13    200.0    failed        6      US        200.0   \n",
      "378660  19/07/2011 09:07    524.0    failed       17      US        524.0   \n",
      "\n",
      "        usd_pledged_realised at deadline  usd_goal_real_at_start  \n",
      "0                                    0.0                 1533.95  \n",
      "1                                 2421.0                30000.00  \n",
      "2                                  220.0                45000.00  \n",
      "3                                    1.0                 5000.00  \n",
      "4                                 1283.0                19500.00  \n",
      "...                                  ...                     ...  \n",
      "378656                              25.0                50000.00  \n",
      "378657                             155.0                 1500.00  \n",
      "378658                              20.0                15000.00  \n",
      "378659                             200.0                15000.00  \n",
      "378660                             524.0                 2000.00  \n",
      "\n",
      "[378661 rows x 13 columns]\n"
     ]
    }
   ],
   "source": [
    "missing_values = [\"N,0\\\"\"]\n",
    "dataset = pd.read_csv(\"kickstarter201801.csv\",)\n",
    "dataset = dataset.drop([\"ID\",\"name\"],axis=1)\n",
    "x = dataset[\"usd pledged\"].median()\n",
    "dataset[\"usd pledged\"].fillna(x,inplace = True)\n",
    "print(dataset[\"usd pledged\"].isnull().any())\n",
    "print(dataset)"
   ]
  },
  {
   "cell_type": "code",
   "execution_count": 10,
   "metadata": {},
   "outputs": [
    {
     "name": "stdout",
     "output_type": "stream",
     "text": [
      "        category  main_category  currency     goal  pledged  backers  country  \\\n",
      "0              0              0         0   1000.0      0.0        0        0   \n",
      "1              1              1         1  30000.0   2421.0       15        1   \n",
      "2              1              1         1  45000.0    220.0        3        1   \n",
      "3              2              2         1   5000.0      1.0        1        1   \n",
      "4              3              1         1  19500.0   1283.0       14        1   \n",
      "...          ...            ...       ...      ...      ...      ...      ...   \n",
      "378656         8              1         1  50000.0     25.0        1        1   \n",
      "378657         1              1         1   1500.0    155.0        5        1   \n",
      "378658         1              1         1  15000.0     20.0        1        1   \n",
      "378659        57             12         1  15000.0    200.0        6        1   \n",
      "378660        75             10         1   2000.0    524.0       17        1   \n",
      "\n",
      "        usd pledged  usd_pledged_realised at deadline  usd_goal_real_at_start  \\\n",
      "0               0.0                               0.0                 1533.95   \n",
      "1             100.0                            2421.0                30000.00   \n",
      "2             220.0                             220.0                45000.00   \n",
      "3               1.0                               1.0                 5000.00   \n",
      "4            1283.0                            1283.0                19500.00   \n",
      "...             ...                               ...                     ...   \n",
      "378656         25.0                              25.0                50000.00   \n",
      "378657        155.0                             155.0                 1500.00   \n",
      "378658         20.0                              20.0                15000.00   \n",
      "378659        200.0                             200.0                15000.00   \n",
      "378660        524.0                             524.0                 2000.00   \n",
      "\n",
      "        interval  \n",
      "0             58  \n",
      "1             59  \n",
      "2             44  \n",
      "3             29  \n",
      "4             55  \n",
      "...          ...  \n",
      "378656        29  \n",
      "378657        26  \n",
      "378658        45  \n",
      "378659        30  \n",
      "378660        27  \n",
      "\n",
      "[378661 rows x 11 columns]\n"
     ]
    }
   ],
   "source": [
    "dataset[\"interval\"] = dataset.apply(getInterval,axis=1)\n",
    "dataset = dataset.drop([\"deadline\",\"launched\"],axis=1)\n",
    "cat_dic, main_dic = trans_category(dataset)\n",
    "dataset[\"category\"] = dataset[\"category\"].apply(lambda x: cat_dic.index(x))\n",
    "dataset[\"main_category\"] = dataset[\"main_category\"].apply(lambda x: main_dic.index(x))\n",
    "curr_dic = trans_currency(dataset)\n",
    "dataset[\"currency\"] = dataset[\"currency\"].apply(lambda x: curr_dic.index(x))\n",
    "country_dic = trans_country(dataset)\n",
    "dataset[\"country\"] = dataset[\"country\"].apply(lambda x: country_dic.index(x))\n",
    "state_dic = label_generate(dataset)\n",
    "y = dataset[\"state\"].apply(lambda x: state_dic.index(x))\n",
    "dataset = dataset.drop([\"state\"],axis=1)\n",
    "print(dataset)"
   ]
  },
  {
   "cell_type": "code",
   "execution_count": 11,
   "metadata": {},
   "outputs": [],
   "source": [
    "X_train, X_test, y_train, y_test = train_test_split(dataset, y, test_size=0.1, shuffle=True)"
   ]
  },
  {
   "cell_type": "code",
   "execution_count": 12,
   "metadata": {},
   "outputs": [
    {
     "name": "stdout",
     "output_type": "stream",
     "text": [
      "training KNN...\n",
      "accuracy =  0.8679325005941849\n"
     ]
    }
   ],
   "source": [
    "knn = KNeighborsClassifier()\n",
    "\n",
    "print('training KNN...')\n",
    "knn.fit(X_train, y_train)\n",
    "y_pred = knn.predict(X_test)\n",
    "accuracy = metrics.accuracy_score(y_test, y_pred)\n",
    "print('accuracy = ', accuracy)"
   ]
  },
  {
   "cell_type": "code",
   "execution_count": 13,
   "metadata": {},
   "outputs": [
    {
     "name": "stdout",
     "output_type": "stream",
     "text": [
      "training Gaussian...\n",
      "accuracy =  0.5724773549528613\n"
     ]
    }
   ],
   "source": [
    "gn = GaussianNB()\n",
    "print('training Gaussian...')\n",
    "gn.fit(X_train, y_train)\n",
    "y_pred = gn.predict(X_test)\n",
    "accuracy = metrics.accuracy_score(y_test, y_pred)\n",
    "print('accuracy = ', accuracy)"
   ]
  },
  {
   "cell_type": "code",
   "execution_count": 14,
   "metadata": {},
   "outputs": [
    {
     "name": "stdout",
     "output_type": "stream",
     "text": [
      "training random forest...\n"
     ]
    }
   ],
   "source": [
    "rf = RandomForestClassifier(random_state=1)\n",
    "print('training random forest...')\n",
    "rf.fit(X_train, y_train)\n",
    "y_pred = rf.predict(X_test)\n",
    "accuracy = metrics.accuracy_score(y_test, y_pred)\n",
    "print('accuracy = ', accuracy)"
   ]
  },
  {
   "cell_type": "code",
   "execution_count": null,
   "metadata": {},
   "outputs": [
    {
     "name": "stdout",
     "output_type": "stream",
     "text": [
      "training random forest...\n",
      "accuracy =  0.8790239522539415\n"
     ]
    }
   ],
   "source": [
    "voting = VotingClassifier(estimators=[('knn',knn),('gaussian',gn),('random forest',rf)],voting='hard')\n",
    "print('training voting classifier...')\n",
    "voting.fit(X_train, y_train)\n",
    "y_pred = voting.predict(X_test)\n",
    "accuracy = metrics.accuracy_score(y_test, y_pred)\n",
    "print('accuracy = ', accuracy)"
   ]
  }
 ],
 "metadata": {
  "interpreter": {
   "hash": "968747c1a0276514d7b7bc2b6947250aa6eee261b070ddc68be09179b04c781c"
  },
  "kernelspec": {
   "display_name": "Python 3.9.6 64-bit",
   "language": "python",
   "name": "python3"
  },
  "language_info": {
   "codemirror_mode": {
    "name": "ipython",
    "version": 3
   },
   "file_extension": ".py",
   "mimetype": "text/x-python",
   "name": "python",
   "nbconvert_exporter": "python",
   "pygments_lexer": "ipython3",
   "version": "3.9.6"
  },
  "orig_nbformat": 4
 },
 "nbformat": 4,
 "nbformat_minor": 2
}
