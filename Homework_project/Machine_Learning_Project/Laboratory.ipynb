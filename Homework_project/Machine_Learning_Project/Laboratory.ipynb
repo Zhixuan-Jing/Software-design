{
 "cells": [
  {
   "cell_type": "code",
   "execution_count": 3,
   "metadata": {},
   "outputs": [],
   "source": [
    "import pandas as pd\n",
    "from sklearn.model_selection import train_test_split\n",
    "from sklearn import metrics\n",
    "from sklearn.neighbors import KNeighborsClassifier\n",
    "from sklearn.naive_bayes import GaussianNB\n",
    "from sklearn.ensemble import RandomForestClassifier\n",
    "from sklearn.ensemble import VotingClassifier\n",
    "from sklearn import datasets"
   ]
  },
  {
   "cell_type": "code",
   "execution_count": 8,
   "metadata": {},
   "outputs": [
    {
     "name": "stdout",
     "output_type": "stream",
     "text": [
      "          age       sex       bmi        bp        s1        s2        s3  \\\n",
      "0    0.038076  0.050680  0.061696  0.021872 -0.044223 -0.034821 -0.043401   \n",
      "1   -0.001882 -0.044642 -0.051474 -0.026328 -0.008449 -0.019163  0.074412   \n",
      "2    0.085299  0.050680  0.044451 -0.005670 -0.045599 -0.034194 -0.032356   \n",
      "3   -0.089063 -0.044642 -0.011595 -0.036656  0.012191  0.024991 -0.036038   \n",
      "4    0.005383 -0.044642 -0.036385  0.021872  0.003935  0.015596  0.008142   \n",
      "..        ...       ...       ...       ...       ...       ...       ...   \n",
      "437  0.041708  0.050680  0.019662  0.059744 -0.005697 -0.002566 -0.028674   \n",
      "438 -0.005515  0.050680 -0.015906 -0.067642  0.049341  0.079165 -0.028674   \n",
      "439  0.041708  0.050680 -0.015906  0.017293 -0.037344 -0.013840 -0.024993   \n",
      "440 -0.045472 -0.044642  0.039062  0.001215  0.016318  0.015283 -0.028674   \n",
      "441 -0.045472 -0.044642 -0.073030 -0.081413  0.083740  0.027809  0.173816   \n",
      "\n",
      "           s4        s5        s6  \n",
      "0   -0.002592  0.019907 -0.017646  \n",
      "1   -0.039493 -0.068332 -0.092204  \n",
      "2   -0.002592  0.002861 -0.025930  \n",
      "3    0.034309  0.022688 -0.009362  \n",
      "4   -0.002592 -0.031988 -0.046641  \n",
      "..        ...       ...       ...  \n",
      "437 -0.002592  0.031193  0.007207  \n",
      "438  0.034309 -0.018114  0.044485  \n",
      "439 -0.011080 -0.046883  0.015491  \n",
      "440  0.026560  0.044529 -0.025930  \n",
      "441 -0.039493 -0.004222  0.003064  \n",
      "\n",
      "[442 rows x 10 columns]\n"
     ]
    }
   ],
   "source": [
    "dataset = datasets.load_diabetes()\n",
    "print(pd.DataFrame(dataset.data,columns = dataset.feature_names))"
   ]
  },
  {
   "cell_type": "code",
   "execution_count": 3,
   "metadata": {},
   "outputs": [],
   "source": [
    "def transTime(split):\n",
    "    split = split.split(\"/\")\n",
    "    split[1], split[0] = split[0], split[1]\n",
    "    split = \"/\".join(split)\n",
    "    return split"
   ]
  },
  {
   "cell_type": "code",
   "execution_count": 4,
   "metadata": {},
   "outputs": [],
   "source": [
    "def getInterval(arrayLike):\n",
    "    launched = transTime(arrayLike[\"launched\"])\n",
    "    deadline = transTime(arrayLike[\"deadline\"])\n",
    "    interval = pd.to_datetime(deadline)-pd.to_datetime(launched)\n",
    "    return interval.days"
   ]
  },
  {
   "cell_type": "code",
   "execution_count": 5,
   "metadata": {},
   "outputs": [],
   "source": [
    "def trans_category(arrayLike):\n",
    "    cat_dic = []\n",
    "    main_dic = []\n",
    "    assert(arrayLike is not None)\n",
    "    category = arrayLike[\"category\"]\n",
    "    main_category = arrayLike[\"main_category\"]\n",
    "    for ele in category:\n",
    "        if ele not in cat_dic:\n",
    "            cat_dic.append(ele)\n",
    "    for ele in main_category:\n",
    "        if ele not in main_dic:\n",
    "            main_dic.append(ele)     \n",
    "    return cat_dic, main_dic      "
   ]
  },
  {
   "cell_type": "code",
   "execution_count": 6,
   "metadata": {},
   "outputs": [],
   "source": [
    "def trans_currency(arrayLike):\n",
    "    curr_dic = []\n",
    "    currency = arrayLike[\"currency\"]\n",
    "    for ele in currency:\n",
    "        if ele not in curr_dic:\n",
    "            curr_dic.append(ele)\n",
    "    return curr_dic"
   ]
  },
  {
   "cell_type": "code",
   "execution_count": 7,
   "metadata": {},
   "outputs": [],
   "source": [
    "def trans_country(arrayLike):\n",
    "    country_dic = []\n",
    "    country = arrayLike[\"country\"]\n",
    "    for ele in country:\n",
    "        if ele not in country_dic:\n",
    "            country_dic.append(ele)\n",
    "    return country_dic"
   ]
  },
  {
   "cell_type": "code",
   "execution_count": 8,
   "metadata": {},
   "outputs": [],
   "source": [
    "def label_generate(arrayLike):\n",
    "    label = []\n",
    "    country = arrayLike[\"state\"]\n",
    "    for ele in country:\n",
    "        if ele not in label:\n",
    "            label.append(ele)\n",
    "    return label"
   ]
  },
  {
   "cell_type": "code",
   "execution_count": 9,
   "metadata": {},
   "outputs": [
    {
     "name": "stdout",
     "output_type": "stream",
     "text": [
      "False\n",
      "               category main_category currency    deadline     goal  \\\n",
      "0                Poetry    Publishing      GBP  09/10/2015   1000.0   \n",
      "1        Narrative Film  Film & Video      USD  01/11/2017  30000.0   \n",
      "2        Narrative Film  Film & Video      USD  26/02/2013  45000.0   \n",
      "3                 Music         Music      USD  16/04/2012   5000.0   \n",
      "4          Film & Video  Film & Video      USD  29/08/2015  19500.0   \n",
      "...                 ...           ...      ...         ...      ...   \n",
      "378656      Documentary  Film & Video      USD  17/10/2014  50000.0   \n",
      "378657   Narrative Film  Film & Video      USD  19/07/2011   1500.0   \n",
      "378658   Narrative Film  Film & Video      USD  16/08/2010  15000.0   \n",
      "378659       Technology    Technology      USD  13/02/2016  15000.0   \n",
      "378660  Performance Art           Art      USD  16/08/2011   2000.0   \n",
      "\n",
      "                launched  pledged     state  backers country  usd pledged  \\\n",
      "0       11/08/2015 12:12      0.0    failed        0      GB          0.0   \n",
      "1       02/09/2017 04:43   2421.0    failed       15      US        100.0   \n",
      "2       12/01/2013 00:20    220.0    failed        3      US        220.0   \n",
      "3       17/03/2012 03:24      1.0    failed        1      US          1.0   \n",
      "4       04/07/2015 08:35   1283.0  canceled       14      US       1283.0   \n",
      "...                  ...      ...       ...      ...     ...          ...   \n",
      "378656  17/09/2014 02:35     25.0  canceled        1      US         25.0   \n",
      "378657  22/06/2011 03:35    155.0    failed        5      US        155.0   \n",
      "378658  01/07/2010 19:40     20.0    failed        1      US         20.0   \n",
      "378659  13/01/2016 18:13    200.0    failed        6      US        200.0   \n",
      "378660  19/07/2011 09:07    524.0    failed       17      US        524.0   \n",
      "\n",
      "        usd_pledged_realised at deadline  usd_goal_real_at_start  \n",
      "0                                    0.0                 1533.95  \n",
      "1                                 2421.0                30000.00  \n",
      "2                                  220.0                45000.00  \n",
      "3                                    1.0                 5000.00  \n",
      "4                                 1283.0                19500.00  \n",
      "...                                  ...                     ...  \n",
      "378656                              25.0                50000.00  \n",
      "378657                             155.0                 1500.00  \n",
      "378658                              20.0                15000.00  \n",
      "378659                             200.0                15000.00  \n",
      "378660                             524.0                 2000.00  \n",
      "\n",
      "[378661 rows x 13 columns]\n"
     ]
    }
   ],
   "source": [
    "missing_values = [\"N,0\\\"\"]\n",
    "dataset = pd.read_csv(\"kickstarter201801.csv\",)\n",
    "dataset = dataset.drop([\"ID\",\"name\"],axis=1)\n",
    "x = dataset[\"usd pledged\"].median()\n",
    "dataset[\"usd pledged\"].fillna(x,inplace = True)\n",
    "print(dataset[\"usd pledged\"].isnull().any())\n",
    "print(dataset)"
   ]
  },
  {
   "cell_type": "code",
   "execution_count": 10,
   "metadata": {},
   "outputs": [
    {
     "name": "stdout",
     "output_type": "stream",
     "text": [
      "        category  main_category  currency     goal  pledged  backers  country  \\\n",
      "0              0              0         0   1000.0      0.0        0        0   \n",
      "1              1              1         1  30000.0   2421.0       15        1   \n",
      "2              1              1         1  45000.0    220.0        3        1   \n",
      "3              2              2         1   5000.0      1.0        1        1   \n",
      "4              3              1         1  19500.0   1283.0       14        1   \n",
      "...          ...            ...       ...      ...      ...      ...      ...   \n",
      "378656         8              1         1  50000.0     25.0        1        1   \n",
      "378657         1              1         1   1500.0    155.0        5        1   \n",
      "378658         1              1         1  15000.0     20.0        1        1   \n",
      "378659        57             12         1  15000.0    200.0        6        1   \n",
      "378660        75             10         1   2000.0    524.0       17        1   \n",
      "\n",
      "        usd pledged  usd_pledged_realised at deadline  usd_goal_real_at_start  \\\n",
      "0               0.0                               0.0                 1533.95   \n",
      "1             100.0                            2421.0                30000.00   \n",
      "2             220.0                             220.0                45000.00   \n",
      "3               1.0                               1.0                 5000.00   \n",
      "4            1283.0                            1283.0                19500.00   \n",
      "...             ...                               ...                     ...   \n",
      "378656         25.0                              25.0                50000.00   \n",
      "378657        155.0                             155.0                 1500.00   \n",
      "378658         20.0                              20.0                15000.00   \n",
      "378659        200.0                             200.0                15000.00   \n",
      "378660        524.0                             524.0                 2000.00   \n",
      "\n",
      "        interval  \n",
      "0             58  \n",
      "1             59  \n",
      "2             44  \n",
      "3             29  \n",
      "4             55  \n",
      "...          ...  \n",
      "378656        29  \n",
      "378657        26  \n",
      "378658        45  \n",
      "378659        30  \n",
      "378660        27  \n",
      "\n",
      "[378661 rows x 11 columns]\n"
     ]
    }
   ],
   "source": [
    "dataset[\"interval\"] = dataset.apply(getInterval,axis=1)\n",
    "dataset = dataset.drop([\"deadline\",\"launched\"],axis=1)\n",
    "cat_dic, main_dic = trans_category(dataset)\n",
    "dataset[\"category\"] = dataset[\"category\"].apply(lambda x: cat_dic.index(x))\n",
    "dataset[\"main_category\"] = dataset[\"main_category\"].apply(lambda x: main_dic.index(x))\n",
    "curr_dic = trans_currency(dataset)\n",
    "dataset[\"currency\"] = dataset[\"currency\"].apply(lambda x: curr_dic.index(x))\n",
    "country_dic = trans_country(dataset)\n",
    "dataset[\"country\"] = dataset[\"country\"].apply(lambda x: country_dic.index(x))\n",
    "state_dic = label_generate(dataset)\n",
    "y = dataset[\"state\"].apply(lambda x: state_dic.index(x))\n",
    "dataset = dataset.drop([\"state\"],axis=1)\n",
    "print(dataset)"
   ]
  },
  {
   "cell_type": "code",
   "execution_count": 11,
   "metadata": {},
   "outputs": [],
   "source": [
    "X_train, X_test, y_train, y_test = train_test_split(dataset, y, test_size=0.1, shuffle=True)"
   ]
  },
  {
   "cell_type": "code",
   "execution_count": 12,
   "metadata": {},
   "outputs": [
    {
     "name": "stdout",
     "output_type": "stream",
     "text": [
      "training KNN...\n",
      "accuracy =  0.8679325005941849\n"
     ]
    }
   ],
   "source": [
    "knn = KNeighborsClassifier()\n",
    "\n",
    "print('training KNN...')\n",
    "knn.fit(X_train, y_train)\n",
    "y_pred = knn.predict(X_test)\n",
    "accuracy = metrics.accuracy_score(y_test, y_pred)\n",
    "print('accuracy = ', accuracy)"
   ]
  },
  {
   "cell_type": "code",
   "execution_count": 13,
   "metadata": {},
   "outputs": [
    {
     "name": "stdout",
     "output_type": "stream",
     "text": [
      "training Gaussian...\n",
      "accuracy =  0.5724773549528613\n"
     ]
    }
   ],
   "source": [
    "gn = GaussianNB()\n",
    "print('training Gaussian...')\n",
    "gn.fit(X_train, y_train)\n",
    "y_pred = gn.predict(X_test)\n",
    "accuracy = metrics.accuracy_score(y_test, y_pred)\n",
    "print('accuracy = ', accuracy)"
   ]
  },
  {
   "cell_type": "code",
   "execution_count": 14,
   "metadata": {},
   "outputs": [
    {
     "name": "stdout",
     "output_type": "stream",
     "text": [
      "training random forest...\n"
     ]
    }
   ],
   "source": [
    "rf = RandomForestClassifier(random_state=1)\n",
    "print('training random forest...')\n",
    "rf.fit(X_train, y_train)\n",
    "y_pred = rf.predict(X_test)\n",
    "accuracy = metrics.accuracy_score(y_test, y_pred)\n",
    "print('accuracy = ', accuracy)"
   ]
  },
  {
   "cell_type": "code",
   "execution_count": null,
   "metadata": {},
   "outputs": [
    {
     "name": "stdout",
     "output_type": "stream",
     "text": [
      "training random forest...\n",
      "accuracy =  0.8790239522539415\n"
     ]
    }
   ],
   "source": [
    "voting = VotingClassifier(estimators=[('knn',knn),('gaussian',gn),('random forest',rf)],voting='hard')\n",
    "print('training voting classifier...')\n",
    "voting.fit(X_train, y_train)\n",
    "y_pred = voting.predict(X_test)\n",
    "accuracy = metrics.accuracy_score(y_test, y_pred)\n",
    "print('accuracy = ', accuracy)"
   ]
  }
 ],
 "metadata": {
  "kernelspec": {
   "display_name": "Python 3.9.13 64-bit",
   "language": "python",
   "name": "python3"
  },
  "language_info": {
   "codemirror_mode": {
    "name": "ipython",
    "version": 3
   },
   "file_extension": ".py",
   "mimetype": "text/x-python",
   "name": "python",
   "nbconvert_exporter": "python",
   "pygments_lexer": "ipython3",
   "version": "3.9.13"
  },
  "orig_nbformat": 4,
  "vscode": {
   "interpreter": {
    "hash": "d8cd1a6cbe96046448cece5f39e9856a36523146375335b4da471b00b7330605"
   }
  }
 },
 "nbformat": 4,
 "nbformat_minor": 2
}
