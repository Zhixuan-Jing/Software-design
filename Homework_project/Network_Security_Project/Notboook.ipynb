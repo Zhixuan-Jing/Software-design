{
 "cells": [
  {
   "cell_type": "code",
   "execution_count": 13,
   "metadata": {},
   "outputs": [
    {
     "name": "stdout",
     "output_type": "stream",
     "text": [
      "[58 50 42 34 26 18 10  2 60 52 44 36 28 20 12  4 62 54 46 38 30 22 14  6\n",
      " 64 56 48 40 32 24 16  8]\n",
      "[49 41 33 25 17  9  1 59 51 43 35 27 19 11  3 61 53 45 37 29 21 13  5 63\n",
      " 55 47 39 31 23 15  7]\n"
     ]
    }
   ],
   "source": [
    "import numpy as np\n",
    "def transform(bits,ip):\n",
    "        res = np.zeros_like(ip)\n",
    "        for i in range(64):\n",
    "            res[i] = bits[ip[i]-1]\n",
    "        return res\n",
    "\n",
    "def decompose(bits):\n",
    "    left = bits[:32]\n",
    "    right = bits[32:]\n",
    "    return left,right\n",
    "\n",
    "ip = np.array(\n",
    "        [58,50,42,34,26,18,10,2,\n",
    "        60,52,44,36,28,20,12,4,\n",
    "        62,54,46,38,30,22,14,6,\n",
    "        64,56,48,40,32,24,16,8,\n",
    "        57,49,41,33,25,17,9,1,\n",
    "        59,51,43,35,27,19,11,3,\n",
    "        61,53,45,37,29,21,13,5,\n",
    "        63,55,47,39,31,23,15,7\n",
    "        ])\n",
    "\n",
    "left,right=decompose(ip)\n",
    "print(left)\n",
    "print(right)"
   ]
  }
 ],
 "metadata": {
  "interpreter": {
   "hash": "968747c1a0276514d7b7bc2b6947250aa6eee261b070ddc68be09179b04c781c"
  },
  "kernelspec": {
   "display_name": "Python 3.9.6 64-bit",
   "name": "python3"
  },
  "language_info": {
   "codemirror_mode": {
    "name": "ipython",
    "version": 3
   },
   "file_extension": ".py",
   "mimetype": "text/x-python",
   "name": "python",
   "nbconvert_exporter": "python",
   "pygments_lexer": "ipython3",
   "version": "3.9.6"
  },
  "orig_nbformat": 4
 },
 "nbformat": 4,
 "nbformat_minor": 2
}
