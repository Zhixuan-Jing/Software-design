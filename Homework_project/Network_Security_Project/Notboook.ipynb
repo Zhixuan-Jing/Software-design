{
 "cells": [
  {
   "cell_type": "code",
   "execution_count": 17,
   "metadata": {},
   "outputs": [
    {
     "name": "stdout",
     "output_type": "stream",
     "text": [
      "64\n",
      "63\n",
      "[108 100  92  84  76  68  60 118 110 102  94  86  78  70  62 120 112 104\n",
      "  96  88  80  72  64 122 114 106  98  90  82  74  66 115 107  99  91  83\n",
      "  75  67  59 117 109 101  93  85  77  69  61 119 111 103  95  87  79  71\n",
      "  63 121 113 105  97  89  81  73  65]\n"
     ]
    }
   ],
   "source": [
    "import numpy as np\n",
    "def transform(bits,ip):\n",
    "        res = np.zeros_like(ip)\n",
    "        for i in range(64):\n",
    "            res[i] = bits[ip[i]-1]\n",
    "        return res\n",
    "\n",
    "def decompose(bits):\n",
    "    left = bits[:32]\n",
    "    right = bits[32:]\n",
    "    return left,right\n",
    "\n",
    "def rotateL(v,times):\n",
    "    print(np.size(v))\n",
    "    \n",
    "    res = v[times:]+v[0:times]\n",
    "    print(np.size(res))\n",
    "    return res\n",
    "\n",
    "ip = np.array(\n",
    "        [58,50,42,34,26,18,10,2,\n",
    "        60,52,44,36,28,20,12,4,\n",
    "        62,54,46,38,30,22,14,6,\n",
    "        64,56,48,40,32,24,16,8,\n",
    "        57,49,41,33,25,17,9,1,\n",
    "        59,51,43,35,27,19,11,3,\n",
    "        61,53,45,37,29,21,13,5,\n",
    "        63,55,47,39,31,23,15,7\n",
    "        ])\n",
    "print(rotateL(ip,1))\n",
    "\n"
   ]
  }
 ],
 "metadata": {
  "interpreter": {
   "hash": "968747c1a0276514d7b7bc2b6947250aa6eee261b070ddc68be09179b04c781c"
  },
  "kernelspec": {
   "display_name": "Python 3.9.6 64-bit",
   "name": "python3"
  },
  "language_info": {
   "codemirror_mode": {
    "name": "ipython",
    "version": 3
   },
   "file_extension": ".py",
   "mimetype": "text/x-python",
   "name": "python",
   "nbconvert_exporter": "python",
   "pygments_lexer": "ipython3",
   "version": "3.9.6"
  },
  "orig_nbformat": 4
 },
 "nbformat": 4,
 "nbformat_minor": 2
}
