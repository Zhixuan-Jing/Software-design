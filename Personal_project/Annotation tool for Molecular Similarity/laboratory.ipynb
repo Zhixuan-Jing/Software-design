{
 "cells": [
  {
   "cell_type": "code",
   "execution_count": 99,
   "metadata": {},
   "outputs": [],
   "source": [
    "import sqlite3\n",
    "import json\n",
    "samples = open(\"E:/Sources/Software project/attached_db/sample100_rank10.txt\",mode=\"r\")"
   ]
  },
  {
   "cell_type": "code",
   "execution_count": 100,
   "metadata": {},
   "outputs": [
    {
     "name": "stdout",
     "output_type": "stream",
     "text": [
      "connect succeed!\n"
     ]
    }
   ],
   "source": [
    "molecule_db = sqlite3.connect(\"E:/Sources/Software project/attached_db/moldb.db\")\n",
    "print(\"connect succeed!\")"
   ]
  },
  {
   "cell_type": "code",
   "execution_count": 101,
   "metadata": {},
   "outputs": [],
   "source": [
    "initialize_message = '''CREATE TABLE similarity (id INT PRIMARY KEY, sim_list TEXT NOT NULL);'''"
   ]
  },
  {
   "cell_type": "code",
   "execution_count": 102,
   "metadata": {},
   "outputs": [],
   "source": [
    "insert_message = \"INSERT INTO similarity (id, sim_list) VALUES \""
   ]
  },
  {
   "cell_type": "markdown",
   "metadata": {},
   "source": [
    "Do initialization and create table"
   ]
  },
  {
   "cell_type": "code",
   "execution_count": 103,
   "metadata": {},
   "outputs": [
    {
     "ename": "OperationalError",
     "evalue": "table similarity already exists",
     "output_type": "error",
     "traceback": [
      "\u001b[1;31m---------------------------------------------------------------------------\u001b[0m",
      "\u001b[1;31mOperationalError\u001b[0m                          Traceback (most recent call last)",
      "\u001b[1;32m<ipython-input-103-814a9c00742e>\u001b[0m in \u001b[0;36m<module>\u001b[1;34m\u001b[0m\n\u001b[0;32m      1\u001b[0m \u001b[0mcursor\u001b[0m \u001b[1;33m=\u001b[0m \u001b[0mmolecule_db\u001b[0m\u001b[1;33m.\u001b[0m\u001b[0mcursor\u001b[0m\u001b[1;33m(\u001b[0m\u001b[1;33m)\u001b[0m\u001b[1;33m\u001b[0m\u001b[1;33m\u001b[0m\u001b[0m\n\u001b[1;32m----> 2\u001b[1;33m \u001b[0mcursor\u001b[0m\u001b[1;33m.\u001b[0m\u001b[0mexecute\u001b[0m\u001b[1;33m(\u001b[0m\u001b[0minitialize_message\u001b[0m\u001b[1;33m)\u001b[0m\u001b[1;33m\u001b[0m\u001b[1;33m\u001b[0m\u001b[0m\n\u001b[0m\u001b[0;32m      3\u001b[0m \u001b[0mprint\u001b[0m\u001b[1;33m(\u001b[0m\u001b[1;34m\"table created!\"\u001b[0m\u001b[1;33m)\u001b[0m\u001b[1;33m\u001b[0m\u001b[1;33m\u001b[0m\u001b[0m\n",
      "\u001b[1;31mOperationalError\u001b[0m: table similarity already exists"
     ]
    }
   ],
   "source": [
    "cursor = molecule_db.cursor()\n",
    "cursor.execute(initialize_message)\n",
    "print(\"table created!\")"
   ]
  },
  {
   "cell_type": "markdown",
   "metadata": {},
   "source": [
    "Insert values in txt file"
   ]
  },
  {
   "cell_type": "code",
   "execution_count": 104,
   "metadata": {},
   "outputs": [
    {
     "name": "stdout",
     "output_type": "stream",
     "text": [
      "1:\n",
      "\n",
      "INSERT INTO similarity (id, sim_list) VALUES (1,\"1 13 19 30 33 35 43 44 60 62 \n",
      "\");\n",
      "INSERT INTO similarity (id, sim_list) VALUES (4,\"4 13 19 30 33 35 43 44 60 62 \n",
      "\");\n",
      "INSERT INTO similarity (id, sim_list) VALUES (5,\"5 89 31 40 50 68 98 1 10 13 \n",
      "\");\n",
      "INSERT INTO similarity (id, sim_list) VALUES (6,\"6 7 8 28 14 94 1 4 13 19 \n",
      "\");\n",
      "INSERT INTO similarity (id, sim_list) VALUES (7,\"7 6 8 14 4 13 19 30 33 35 \n",
      "\");\n",
      "INSERT INTO similarity (id, sim_list) VALUES (8,\"8 7 14 6 4 13 19 30 33 35 \n",
      "\");\n",
      "INSERT INTO similarity (id, sim_list) VALUES (9,\"9 11 10 5 78 21 45 91 15 31 \n",
      "\");\n",
      "INSERT INTO similarity (id, sim_list) VALUES (10,\"10 5 29 37 41 79 49 74 97 1 \n",
      "\");\n",
      "INSERT INTO similarity (id, sim_list) VALUES (11,\"9 11 10 5 78 21 45 91 15 31 \n",
      "\");\n",
      "INSERT INTO similarity (id, sim_list) VALUES (13,\"13 19 30 33 35 43 44 60 62 63 \n",
      "\");\n",
      "INSERT INTO similarity (id, sim_list) VALUES (14,\"14 31 40 50 68 98 13 19 30 33 \n",
      "\");\n",
      "INSERT INTO similarity (id, sim_list) VALUES (15,\"15 22 74 5 10 66 67 18 78 9 \n",
      "\");\n",
      "INSERT INTO similarity (id, sim_list) VALUES (16,\"16 4 13 19 30 33 35 43 44 60 \n",
      "\");\n",
      "INSERT INTO similarity (id, sim_list) VALUES (18,\"18 5 56 59 10 31 40 47 50 68 \n",
      "\");\n",
      "INSERT INTO similarity (id, sim_list) VALUES (19,\"13 19 30 33 35 43 44 60 62 63 \n",
      "\");\n",
      "INSERT INTO similarity (id, sim_list) VALUES (21,\"21 78 14 5 28 4 6 1 10 13 \n",
      "\");\n",
      "INSERT INTO similarity (id, sim_list) VALUES (22,\"22 15 10 79 37 41 64 49 42 5 \n",
      "\");\n",
      "INSERT INTO similarity (id, sim_list) VALUES (24,\"24 26 49 41 74 10 37 1 13 19 \n",
      "\");\n",
      "INSERT INTO similarity (id, sim_list) VALUES (26,\"26 24 41 49 37 46 64 10 74 5 \n",
      "\");\n",
      "INSERT INTO similarity (id, sim_list) VALUES (27,\"27 66 67 90 56 59 21 79 10 91 \n",
      "\");\n",
      "INSERT INTO similarity (id, sim_list) VALUES (28,\"28 66 67 5 16 89 6 31 40 50 \n",
      "\");\n",
      "INSERT INTO similarity (id, sim_list) VALUES (29,\"29 37 1 41 79 10 42 13 19 30 \n",
      "\");\n",
      "INSERT INTO similarity (id, sim_list) VALUES (30,\"13 19 30 33 35 43 44 60 62 63 \n",
      "\");\n",
      "INSERT INTO similarity (id, sim_list) VALUES (31,\"31 40 50 68 98 13 19 30 33 35 \n",
      "\");\n",
      "INSERT INTO similarity (id, sim_list) VALUES (32,\"32 42 39 29 1 45 37 13 19 30 \n",
      "\");\n",
      "INSERT INTO similarity (id, sim_list) VALUES (33,\"13 19 30 33 35 43 44 60 62 63 \n",
      "\");\n",
      "INSERT INTO similarity (id, sim_list) VALUES (34,\"34 45 1 32 31 40 47 50 68 98 \n",
      "\");\n",
      "INSERT INTO similarity (id, sim_list) VALUES (35,\"13 19 30 33 35 43 44 60 62 63 \n",
      "\");\n",
      "INSERT INTO similarity (id, sim_list) VALUES (36,\"36 32 42 34 39 1 45 29 37 38 \n",
      "\");\n",
      "INSERT INTO similarity (id, sim_list) VALUES (37,\"37 29 41 49 79 10 42 1 5 89 \n",
      "\");\n",
      "INSERT INTO similarity (id, sim_list) VALUES (38,\"38 37 41 39 42 29 32 49 74 10 \n",
      "\");\n",
      "INSERT INTO similarity (id, sim_list) VALUES (39,\"39 32 42 45 1 29 37 10 34 36 \n",
      "\");\n",
      "INSERT INTO similarity (id, sim_list) VALUES (40,\"31 40 50 68 98 13 19 30 33 35 \n",
      "\");\n",
      "INSERT INTO similarity (id, sim_list) VALUES (41,\"41 37 29 49 79 10 28 5 89 24 \n",
      "\");\n",
      "INSERT INTO similarity (id, sim_list) VALUES (42,\"42 32 29 37 39 1 41 79 10 45 \n",
      "\");\n",
      "INSERT INTO similarity (id, sim_list) VALUES (43,\"13 19 30 33 35 43 44 60 62 63 \n",
      "\");\n",
      "INSERT INTO similarity (id, sim_list) VALUES (44,\"13 19 30 33 35 43 44 60 62 63 \n",
      "\");\n",
      "INSERT INTO similarity (id, sim_list) VALUES (45,\"45 1 66 67 32 90 4 13 19 30 \n",
      "\");\n",
      "INSERT INTO similarity (id, sim_list) VALUES (46,\"46 7 6 26 28 24 41 45 84 89 \n",
      "\");\n",
      "INSERT INTO similarity (id, sim_list) VALUES (47,\"47 31 40 50 68 98 13 19 30 33 \n",
      "\");\n",
      "INSERT INTO similarity (id, sim_list) VALUES (48,\"48 6 7 8 4 28 56 59 61 14 \n",
      "\");\n",
      "INSERT INTO similarity (id, sim_list) VALUES (49,\"49 24 37 41 74 10 29 79 77 1 \n",
      "\");\n",
      "INSERT INTO similarity (id, sim_list) VALUES (50,\"31 40 50 68 98 13 19 30 33 35 \n",
      "\");\n",
      "INSERT INTO similarity (id, sim_list) VALUES (54,\"54 57 48 7 47 14 13 19 30 31 \n",
      "\");\n",
      "INSERT INTO similarity (id, sim_list) VALUES (55,\"55 47 31 40 50 68 98 7 94 13 \n",
      "\");\n",
      "INSERT INTO similarity (id, sim_list) VALUES (56,\"56 59 14 66 67 1 13 19 30 33 \n",
      "\");\n",
      "INSERT INTO similarity (id, sim_list) VALUES (57,\"54 57 48 7 47 14 13 19 30 31 \n",
      "\");\n",
      "INSERT INTO similarity (id, sim_list) VALUES (59,\"56 59 14 66 67 1 13 19 30 33 \n",
      "\");\n",
      "INSERT INTO similarity (id, sim_list) VALUES (60,\"13 19 30 33 35 43 44 60 62 63 \n",
      "\");\n",
      "INSERT INTO similarity (id, sim_list) VALUES (61,\"61 7 48 8 14 4 6 28 16 31 \n",
      "\");\n",
      "INSERT INTO similarity (id, sim_list) VALUES (62,\"13 19 30 33 35 43 44 60 62 63 \n",
      "\");\n",
      "INSERT INTO similarity (id, sim_list) VALUES (63,\"13 19 30 33 35 43 44 60 62 63 \n",
      "\");\n",
      "INSERT INTO similarity (id, sim_list) VALUES (64,\"64 5 26 10 41 89 1 13 15 19 \n",
      "\");\n",
      "INSERT INTO similarity (id, sim_list) VALUES (66,\"66 67 90 91 13 16 19 30 33 35 \n",
      "\");\n",
      "INSERT INTO similarity (id, sim_list) VALUES (67,\"66 67 90 91 13 16 19 30 33 35 \n",
      "\");\n",
      "INSERT INTO similarity (id, sim_list) VALUES (68,\"31 40 50 68 98 13 19 30 33 35 \n",
      "\");\n",
      "INSERT INTO similarity (id, sim_list) VALUES (70,\"13 19 30 33 35 43 44 60 62 63 \n",
      "\");\n",
      "INSERT INTO similarity (id, sim_list) VALUES (71,\"13 19 30 33 35 43 44 60 62 63 \n",
      "\");\n",
      "INSERT INTO similarity (id, sim_list) VALUES (72,\"13 19 30 33 35 43 44 60 62 63 \n",
      "\");\n",
      "INSERT INTO similarity (id, sim_list) VALUES (73,\"13 19 30 33 35 43 44 60 62 63 \n",
      "\");\n",
      "INSERT INTO similarity (id, sim_list) VALUES (74,\"74 49 77 10 66 67 91 97 24 41 \n",
      "\");\n",
      "INSERT INTO similarity (id, sim_list) VALUES (75,\"13 19 30 33 35 43 44 60 62 63 \n",
      "\");\n",
      "INSERT INTO similarity (id, sim_list) VALUES (76,\"13 19 30 33 35 43 44 60 62 63 \n",
      "\");\n",
      "INSERT INTO similarity (id, sim_list) VALUES (77,\"77 74 10 49 91 1 5 13 19 30 \n",
      "\");\n",
      "INSERT INTO similarity (id, sim_list) VALUES (78,\"78 21 5 28 89 1 10 13 16 19 \n",
      "\");\n",
      "INSERT INTO similarity (id, sim_list) VALUES (79,\"79 29 37 41 10 49 42 1 13 19 \n",
      "\");\n",
      "INSERT INTO similarity (id, sim_list) VALUES (81,\"13 19 30 33 35 43 44 60 62 63 \n",
      "\");\n",
      "INSERT INTO similarity (id, sim_list) VALUES (82,\"82 16 4 13 19 30 33 35 43 44 \n",
      "\");\n",
      "INSERT INTO similarity (id, sim_list) VALUES (84,\"84 94 6 28 41 46 7 74 91 5 \n",
      "\");\n",
      "INSERT INTO similarity (id, sim_list) VALUES (85,\"85 100 64 32 37 29 56 59 10 24 \n",
      "\");\n",
      "INSERT INTO similarity (id, sim_list) VALUES (86,\"13 19 30 33 35 43 44 60 62 63 \n",
      "\");\n",
      "INSERT INTO similarity (id, sim_list) VALUES (87,\"13 19 30 33 35 43 44 60 62 63 \n",
      "\");\n",
      "INSERT INTO similarity (id, sim_list) VALUES (88,\"13 19 30 33 35 43 44 60 62 63 \n",
      "\");\n",
      "INSERT INTO similarity (id, sim_list) VALUES (89,\"89 1 13 19 30 33 35 43 44 60 \n",
      "\");\n",
      "INSERT INTO similarity (id, sim_list) VALUES (90,\"90 66 67 91 31 40 50 68 98 13 \n",
      "\");\n",
      "INSERT INTO similarity (id, sim_list) VALUES (91,\"91 66 67 90 13 19 30 33 35 43 \n",
      "\");\n",
      "INSERT INTO similarity (id, sim_list) VALUES (92,\"13 19 30 33 35 43 44 60 62 63 \n",
      "\");\n",
      "INSERT INTO similarity (id, sim_list) VALUES (93,\"13 19 30 33 35 43 44 60 62 63 \n",
      "\");\n",
      "INSERT INTO similarity (id, sim_list) VALUES (94,\"94 84 6 28 90 91 5 66 67 7 \n",
      "\");\n",
      "INSERT INTO similarity (id, sim_list) VALUES (95,\"13 19 30 33 35 43 44 60 62 63 \n",
      "\");\n",
      "INSERT INTO similarity (id, sim_list) VALUES (96,\"96 85 27 15 22 10 64 5 18 56 \n",
      "\");\n",
      "INSERT INTO similarity (id, sim_list) VALUES (97,\"97 10 91 74 49 29 37 41 66 67 \n",
      "\");\n",
      "INSERT INTO similarity (id, sim_list) VALUES (98,\"31 40 50 68 98 13 19 30 33 35 \n",
      "\");\n",
      "INSERT INTO similarity (id, sim_list) VALUES (99,\"13 19 30 33 35 43 44 60 62 63 \n",
      "\");\n",
      "INSERT INTO similarity (id, sim_list) VALUES (100,\"100 85 7 6 94 18 37 29 1 5 \");\n",
      "task completed\n"
     ]
    },
    {
     "name": "stderr",
     "output_type": "stream",
     "text": [
      "<>:4: SyntaxWarning: \"is not\" with a literal. Did you mean \"!=\"?\n",
      "<>:4: SyntaxWarning: \"is not\" with a literal. Did you mean \"!=\"?\n",
      "<ipython-input-104-a9848d163f89>:4: SyntaxWarning: \"is not\" with a literal. Did you mean \"!=\"?\n",
      "  while line is not \"\":\n"
     ]
    }
   ],
   "source": [
    "cursor = molecule_db.cursor()\n",
    "line = samples.readline()\n",
    "print(line)\n",
    "while line != \"\":\n",
    "  id = line[:-2]\n",
    "  line = samples.readline()\n",
    "  sim = line\n",
    "  ins = insert_message+\"(\"+id+\",\\\"\"+sim+\"\\\");\"\n",
    "  print(ins)\n",
    "  cursor.execute(ins)   \n",
    "\n",
    "  line = samples.readline()\n",
    "molecule_db.commit()\n",
    "print(\"task completed\")\n"
   ]
  }
 ],
 "metadata": {
  "interpreter": {
   "hash": "968747c1a0276514d7b7bc2b6947250aa6eee261b070ddc68be09179b04c781c"
  },
  "kernelspec": {
   "display_name": "Python 3.9.6 64-bit",
   "language": "python",
   "name": "python3"
  },
  "language_info": {
   "codemirror_mode": {
    "name": "ipython",
    "version": 3
   },
   "file_extension": ".py",
   "mimetype": "text/x-python",
   "name": "python",
   "nbconvert_exporter": "python",
   "pygments_lexer": "ipython3",
   "version": "3.9.6"
  },
  "orig_nbformat": 4
 },
 "nbformat": 4,
 "nbformat_minor": 2
}
