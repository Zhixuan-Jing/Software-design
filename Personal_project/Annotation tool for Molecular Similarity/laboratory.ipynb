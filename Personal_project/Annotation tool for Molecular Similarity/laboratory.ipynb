{
 "cells": [
  {
   "cell_type": "code",
   "execution_count": 3,
   "metadata": {},
   "outputs": [
    {
     "name": "stdout",
     "output_type": "stream",
     "text": [
      "1:\n",
      "\n"
     ]
    }
   ],
   "source": [
    "import sqlite3\n",
    "import json\n",
    "samples = open(\"E:/Sources/Software project/attached_db/sample100_rank10.txt\",mode=\"r\")\n",
    "\n",
    "line = samples.readline()\n",
    "print(line)"
   ]
  }
 ],
 "metadata": {
  "interpreter": {
   "hash": "968747c1a0276514d7b7bc2b6947250aa6eee261b070ddc68be09179b04c781c"
  },
  "kernelspec": {
   "display_name": "Python 3.9.6 64-bit",
   "language": "python",
   "name": "python3"
  },
  "language_info": {
   "codemirror_mode": {
    "name": "ipython",
    "version": 3
   },
   "file_extension": ".py",
   "mimetype": "text/x-python",
   "name": "python",
   "nbconvert_exporter": "python",
   "pygments_lexer": "ipython3",
   "version": "3.9.6"
  },
  "orig_nbformat": 4
 },
 "nbformat": 4,
 "nbformat_minor": 2
}
