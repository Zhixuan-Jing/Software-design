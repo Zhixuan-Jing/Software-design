{
 "cells": [
  {
   "cell_type": "code",
   "execution_count": 2,
   "metadata": {},
   "outputs": [],
   "source": [
    "import numpy as np\n",
    "import pyro\n",
    "import matplotlib as mpl\n",
    "from matplotlib import pyplot as plt\n",
    "from scipy.stats import nbinom as nb"
   ]
  },
  {
   "cell_type": "code",
   "execution_count": 7,
   "metadata": {},
   "outputs": [
    {
     "data": {
      "text/plain": [
       "array([[2.15232334, 2.90111004, 1.7311948 ],\n",
       "       [0.65182238, 2.60136192, 1.77501073],\n",
       "       [1.10975619, 2.10023586, 1.38846679],\n",
       "       [1.74202906, 0.45842088, 1.2778978 ],\n",
       "       [1.42892577, 1.65084534, 0.91319489]])"
      ]
     },
     "execution_count": 7,
     "metadata": {},
     "output_type": "execute_result"
    }
   ],
   "source": [
    "'''\n",
    "Create a random 2d array as sample\n",
    "h: height of matrix\n",
    "w: width of matrix\n",
    "scale: the range of value\n",
    "distribution: generate data fit for certaion probability distribution, if none, generate uniform distribution\n",
    "parameters: Parameters needed for specified distribution\n",
    "\n",
    "Dictionary for support distributions:\n",
    "\"NB\": Negative binominal distribution\n",
    "\"Gaussian\": Normal distribution\n",
    "\"Gamma\": Gamma distribution\n",
    "\"Poisson\": Poisson distribution\n",
    "'''\n",
    "def lencheck(l,n):\n",
    "  if len(l) > n:\n",
    "    raise RuntimeError(f\"Parameter amount({len(l)}) is more than needed({n})!\")\n",
    "  elif len(l) < n:\n",
    "    raise RuntimeError(f\"Parameter amount({len(l)}) is insufficient({n})!\")\n",
    "  return True\n",
    "\n",
    "def randomGenerator(h: int, w: int, scale: tuple[int,int] = (0,1), distribution: str = None, parameters: list = None) -> np.array:\n",
    "  # Check validity\n",
    "  if scale[1]<=scale[0]:\n",
    "    raise RuntimeError(\"The upper bound of range should be greater than lower bound\") \n",
    "  if not distribution:\n",
    "    return scale[0]+np.random.rand(h,w)*(scale[1]-scale[0])\n",
    "  \n"
   ]
  },
  {
   "cell_type": "code",
   "execution_count": null,
   "metadata": {},
   "outputs": [],
   "source": [
    "def NBfit(m: np.array):\n",
    "  margin_x = np.sum(m,axis=1)\n",
    "  margin_y = np.sum(m,axis=0)"
   ]
  },
  {
   "cell_type": "code",
   "execution_count": null,
   "metadata": {},
   "outputs": [],
   "source": []
  }
 ],
 "metadata": {
  "kernelspec": {
   "display_name": "Python 3",
   "language": "python",
   "name": "python3"
  },
  "language_info": {
   "codemirror_mode": {
    "name": "ipython",
    "version": 3
   },
   "file_extension": ".py",
   "mimetype": "text/x-python",
   "name": "python",
   "nbconvert_exporter": "python",
   "pygments_lexer": "ipython3",
   "version": "3.9.13"
  },
  "orig_nbformat": 4,
  "vscode": {
   "interpreter": {
    "hash": "d8cd1a6cbe96046448cece5f39e9856a36523146375335b4da471b00b7330605"
   }
  }
 },
 "nbformat": 4,
 "nbformat_minor": 2
}
