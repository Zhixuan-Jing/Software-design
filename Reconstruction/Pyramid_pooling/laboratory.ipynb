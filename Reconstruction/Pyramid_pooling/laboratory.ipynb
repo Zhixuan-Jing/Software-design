{
 "cells": [
  {
   "cell_type": "code",
   "execution_count": 75,
   "metadata": {},
   "outputs": [],
   "source": [
    "import torch\n",
    "from torch import nn\n",
    "conv1=nn.Sequential(\n",
    "      nn.Conv2d(1,4,5),\n",
    "      # 20*20*4\n",
    "      nn.MaxPool2d(2,2),\n",
    "      #10*10*4\n",
    "      nn.ReLU()\n",
    "  )\n",
    "conv2=nn.Sequential(\n",
    "      nn.Conv2d(4,1,5),\n",
    "      # 6*6*8\n",
    "      nn.MaxPool2d(2,2),\n",
    "      # 3*3*8\n",
    "      nn.ReLU()\n",
    "  )\n",
    "fcon=nn.Linear(21,10)\n",
    "flat = nn.Flatten(1,3)\n",
    "def forward(x):\n",
    "        x=conv1(x)\n",
    "        print(x.shape)\n",
    "        x=conv2(x)\n",
    "        print(x.shape)\n",
    "        dim = x.shape[-1]\n",
    "        print(dim,dim//2,dim//4)\n",
    "        pad = (4-dim%4)%4\n",
    "        p4d = nn.MaxPool2d((dim+pad)//4,(dim+pad)//4,padding=pad)\n",
    "        p2d = nn.MaxPool2d((dim+pad)//2,(dim+pad)//2,padding=pad)\n",
    "        p1d = nn.MaxPool2d(dim,dim)\n",
    "        print(flat(p4d(x)).shape)\n",
    "        print(flat(p2d(x)).shape)\n",
    "        print(flat(p1d(x)).shape)\n",
    "        x = torch.cat([flat(p4d(x)),flat(p2d(x)),flat(p1d(x))],axis=1)\n",
    "        print(x.shape)\n",
    "        x=fcon(x)\n",
    "        return x"
   ]
  },
  {
   "cell_type": "code",
   "execution_count": 82,
   "metadata": {},
   "outputs": [],
   "source": [
    "test = torch.rand([1,1,29,29])\n",
    "test = test*255\n",
    "test = torch.ceil(test)"
   ]
  },
  {
   "cell_type": "code",
   "execution_count": 83,
   "metadata": {},
   "outputs": [
    {
     "name": "stdout",
     "output_type": "stream",
     "text": [
      "torch.Size([1, 4, 26, 26])\n",
      "torch.Size([1, 1, 11, 11])\n",
      "11 5 2\n",
      "torch.Size([1, 16])\n",
      "torch.Size([1, 4])\n",
      "torch.Size([1, 1])\n",
      "torch.Size([1, 21])\n"
     ]
    },
    {
     "data": {
      "text/plain": [
       "tensor([[ -6.8883,  19.3238,  -5.1018,  -3.4501, -11.9407,   4.3515, -29.7831,\n",
       "          13.4265,  -3.7222,  14.6063]], grad_fn=<AddmmBackward>)"
      ]
     },
     "execution_count": 83,
     "metadata": {},
     "output_type": "execute_result"
    }
   ],
   "source": [
    "forward(test)"
   ]
  }
 ],
 "metadata": {
  "interpreter": {
   "hash": "968747c1a0276514d7b7bc2b6947250aa6eee261b070ddc68be09179b04c781c"
  },
  "kernelspec": {
   "display_name": "Python 3.9.6 64-bit",
   "language": "python",
   "name": "python3"
  },
  "language_info": {
   "codemirror_mode": {
    "name": "ipython",
    "version": 3
   },
   "file_extension": ".py",
   "mimetype": "text/x-python",
   "name": "python",
   "nbconvert_exporter": "python",
   "pygments_lexer": "ipython3",
   "version": "3.9.6"
  },
  "orig_nbformat": 4
 },
 "nbformat": 4,
 "nbformat_minor": 2
}
